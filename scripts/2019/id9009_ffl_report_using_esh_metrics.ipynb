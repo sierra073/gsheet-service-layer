{
 "cells": [
  {
   "cell_type": "markdown",
   "metadata": {},
   "source": [
    "## Get and format ESH data"
   ]
  },
  {
   "cell_type": "code",
   "execution_count": 1,
   "metadata": {},
   "outputs": [],
   "source": [
    "from __future__ import division\n",
    "\n",
    "import os\n",
    "import psycopg2\n",
    "import numpy as np\n",
    "import pandas as pd\n",
    "from IPython.display import display, Markdown, HTML\n",
    "import matplotlib.pyplot as plt\n",
    "import matplotlib.font_manager as fm\n",
    "from matplotlib.pyplot import gca\n",
    "import seaborn as sns\n",
    "\n",
    "# connection credentials\n",
    "HOST = os.environ.get(\"HOST_DAR\")\n",
    "USER = os.environ.get(\"USER_DAR\")\n",
    "PASSWORD = os.environ.get(\"PASSWORD_DAR\")\n",
    "DB = os.environ.get(\"DB_DAR\")\n",
    "GITHUB = os.environ.get(\"GITHUB\")\n",
    "\n",
    "# create cursor connection\n",
    "myConnection = psycopg2.connect( host=HOST, user=USER, password=PASSWORD, database=DB)\n",
    "cur = myConnection.cursor()\n",
    "\n",
    "# functions to get specific tables\n",
    "def get_districts():\n",
    "    query = \"select * from ps.districts\"\n",
    "    cur.execute(query)\n",
    "    names = [x[0] for x in cur.description]\n",
    "    rows = cur.fetchall()\n",
    "    return pd.DataFrame(rows, columns=names)\n",
    "\n",
    "def get_districts_bw_cost():\n",
    "    query = \"select * from ps.districts_bw_cost\"\n",
    "    cur.execute(query)\n",
    "    names = [x[0] for x in cur.description]\n",
    "    rows = cur.fetchall()\n",
    "    return pd.DataFrame(rows, columns=names)\n",
    "\n",
    "def get_districts_fit_for_analysis():\n",
    "    query = \"select * from ps.districts_fit_for_analysis\"\n",
    "    cur.execute(query)\n",
    "    names = [x[0] for x in cur.description]\n",
    "    rows = cur.fetchall()\n",
    "    return pd.DataFrame(rows, columns=names)\n",
    "\n",
    "def get_frn_num_bids():\n",
    "    os.chdir(GITHUB + '''scripts/2019/prework_queries/')\n",
    "    cur.execute(open('id9009_frn_num_bids_clean_districts.sql', \"r\").read())\n",
    "    names = [ x[0] for x in cur.description]\n",
    "    rows = cur.fetchall()\n",
    "    return pd.DataFrame(rows, columns=names)"
   ]
  },
  {
   "cell_type": "code",
   "execution_count": 2,
   "metadata": {},
   "outputs": [],
   "source": [
    "LATO_REG = fm.FontProperties()\n",
    "LATO_REG.set_family('Lato')\n",
    "#import math\n",
    "\n",
    "def plot_linechart(df, metric, label_round, label_yaxis, label_title):\n",
    "    fig, ax = plt.subplots()\n",
    "    frame1 = plt.gca()\n",
    "    \n",
    "    xaxis = 'funding_year'\n",
    "    yaxis = metric\n",
    "    \n",
    "    #white background and no frame except bottom\n",
    "    sns.set_style('white', {'axes.linewidth': .5, 'axes.edgecolor':'#A1A1A1'})\n",
    "    sns.despine(left=True, right=True)\n",
    "    \n",
    "    #format x axis font\n",
    "    plt.xticks(df[xaxis])\n",
    "    for label in ax.get_xticklabels() :\n",
    "        label.set_fontproperties(LATO_REG)\n",
    "\n",
    "    #format y axis font\n",
    "    frame1.axes.get_yaxis().set_ticks([])\n",
    "#     for label in ax.get_yticklabels() :\n",
    "#         label.set_fontproperties(LATO_REG)\n",
    "    plt.ylabel(str(label_yaxis), fontproperties=LATO_REG,size=14)\n",
    "\n",
    "    #title\n",
    "    plt.title(str(label_title), fontproperties=LATO_REG,size=17)\n",
    "    \n",
    "    for locale in ['Rural', 'Urban']:\n",
    "        if locale == 'Rural':\n",
    "            color = '#00529A'\n",
    "        else:\n",
    "            color = '#f26c23'\n",
    "        \n",
    "        plotdf = df[df['locale_grouped'] == locale][['funding_year', yaxis]]\n",
    "\n",
    "        #plot line between all data points\n",
    "        ax.plot(plotdf[xaxis], plotdf[yaxis], color=color, lw = 1.5, zorder=2)\n",
    "\n",
    "        #plot markers for data points with no highlight\n",
    "        plt.scatter(plotdf[xaxis], plotdf[yaxis], color=color, zorder=6, s=50)\n",
    "\n",
    "        #add labels to markers for data points with no highlight\n",
    "        for i in range(plotdf[xaxis].min(),plotdf[xaxis].max() + 1):\n",
    "            if label_round == 0:\n",
    "                ax.text(i-0.1, 1.065*plotdf[plotdf[xaxis] == i][yaxis], str(f\"{int(plotdf[plotdf[xaxis] == i].reset_index()[yaxis][0]):,d}\"), color=color, fontproperties=LATO_REG,size=10, ha='left', zorder=9)\n",
    "            elif 'cost' in metric: \n",
    "                ax.text(i-0.1, 1.065*plotdf[plotdf[xaxis] == i][yaxis], '$' + str(round(plotdf[plotdf[xaxis] == i].reset_index()[yaxis][0],label_round)), color=color, fontproperties=LATO_REG,size=10, ha='left', zorder=9)\n",
    "            else:\n",
    "                ax.text(i-0.1, 1.01*plotdf[plotdf[xaxis] == i][yaxis], str(round(plotdf[plotdf[xaxis] == i].reset_index()[yaxis][0],label_round)), color=color, fontproperties=LATO_REG,size=10, ha='left', zorder=9)\n",
    "                \n",
    "    ax.legend(loc='upper center', bbox_to_anchor=(0.5, -0.05), labels=['Rural', 'Urban'])"
   ]
  },
  {
   "cell_type": "code",
   "execution_count": 3,
   "metadata": {},
   "outputs": [],
   "source": [
    "def agg_2016_2019(df, metric, fun):\n",
    "    result_df = pd.DataFrame()\n",
    "    for year in [2016, 2019]:\n",
    "        for locale in ['Rural', 'Urban']:\n",
    "            data = df[(df.locale_grouped == locale) & (df.funding_year == year)][[metric]].apply(fun).item()\n",
    "            result_df = pd.concat([result_df, pd.DataFrame({'funding_year': year, 'locale_grouped': locale, metric: data, 'metric': metric}, index=[0])], axis=0, ignore_index=True)\n",
    "    return result_df"
   ]
  },
  {
   "cell_type": "code",
   "execution_count": 4,
   "metadata": {},
   "outputs": [],
   "source": [
    "def display_table(df_all):\n",
    "    df_all_stack = df_all.set_index(['locale_grouped','funding_year',]).stack().reset_index()\n",
    "    df_all_stack = df_all_stack.rename(columns = {'level_2': 'metric', 0: 'value'})\n",
    "\n",
    "    temp = df_all_stack.set_index(['locale_grouped','funding_year','metric']).unstack().reset_index(drop=True)\n",
    "    temp.columns = temp.columns.droplevel()\n",
    "    df_all_table = pd.concat([temp.iloc[0:4].reset_index(drop=True),temp.iloc[4:8].reset_index(drop=True)], axis=1)\n",
    "    df_all_table['funding_year'] = [2016, 2017, 2018, 2019]\n",
    "\n",
    "    df_all_table = df_all_table.set_index(['funding_year'])\n",
    "    df_all_table.index.names = ['Funding Year']\n",
    "    df_all_table = df_all_table[['ia_bw_mbps_total', 'ia_monthly_cost_total', 'ia_monthly_cost_per_mbps']]\n",
    "    df_all_table = df_all_table.iloc[:, [0,2,4,1,3,5]]\n",
    "\n",
    "    # further formatting\n",
    "    df_all_table.columns = ['Broadband Speed', 'Monthly Fee', 'Monthly Fee per Mbps','Broadband Speed', 'Monthly Fee', 'Monthly Fee per Mbps']\n",
    "    df_all_table.columns = pd.MultiIndex.from_product([['Rural Average', 'Urban Average'], df_all_table.columns[0:3]])\n",
    "\n",
    "    th_props = [\n",
    "      ('font-size', '12px'),\n",
    "      ('text-align', 'center'),\n",
    "      ('font-weight', 'bold'),\n",
    "      ('color', '#6d6d6d'),\n",
    "      ('background-color', '#f7f7f9')\n",
    "      ]\n",
    "\n",
    "    # Set CSS properties for td elements in dataframe\n",
    "    td_props = [\n",
    "      ('font-size', '11px'),\n",
    "      ('text-align', 'center')\n",
    "      ]\n",
    "\n",
    "    # Set table styles\n",
    "    styles = [\n",
    "      dict(selector=\"th\", props=th_props),\n",
    "      dict(selector=\"td\", props=td_props)\n",
    "      ]\n",
    "\n",
    "    return df_all_table.style.set_table_styles(styles).set_caption('Broadband Speeds and Costs Reported on E-rate Form 471 Funding Applications')"
   ]
  },
  {
   "cell_type": "code",
   "execution_count": 5,
   "metadata": {},
   "outputs": [],
   "source": [
    "# get tables from dar prod database\n",
    "df_d = get_districts()\n",
    "df_fit = get_districts_fit_for_analysis()\n",
    "df_bw_cost = get_districts_bw_cost()\n",
    "df_bids = get_frn_num_bids()\n",
    "cur.close()"
   ]
  },
  {
   "cell_type": "code",
   "execution_count": 6,
   "metadata": {},
   "outputs": [],
   "source": [
    "# Select subset of columns\n",
    "df_d_cols = ['district_id', 'state_code', 'funding_year','district_type','in_universe', 'locale']\n",
    "df_fit_cols = ['district_id', 'funding_year', 'fit_for_ia']\n",
    "df_bw_cost_cols = ['district_id', 'funding_year', 'ia_bw_mbps_total', 'ia_monthly_cost_total', 'ia_bandwidth_per_student_kbps', 'ia_monthly_cost_per_mbps']\n",
    "df_bids_columns = ['district_id', 'funding_year', 'avg_li_num_bids_received']\n",
    "\n",
    "\n",
    "# merge dataframes\n",
    "merge_cols = ['district_id', 'funding_year']\n",
    "df = df_d[df_d_cols].merge(df_fit[df_fit_cols],\n",
    "                         on=merge_cols).merge(df_bw_cost[df_bw_cost_cols],\n",
    "                         on=merge_cols).merge(df_bids[df_bids_columns],\n",
    "                         on=merge_cols)\n",
    "\n",
    "# filter the dataframe\n",
    "df_filtered_ia = df[(df.in_universe==True) &\n",
    "                 (df.district_type=='Traditional') &\n",
    "                 (df.fit_for_ia==True)]"
   ]
  },
  {
   "cell_type": "code",
   "execution_count": 7,
   "metadata": {},
   "outputs": [
    {
     "name": "stdout",
     "output_type": "stream",
     "text": [
      "2019    12428\n",
      "2018    12357\n",
      "2017    11872\n",
      "2016    10690\n",
      "Name: funding_year, dtype: int64\n"
     ]
    }
   ],
   "source": [
    "print(df_filtered_ia['funding_year'].value_counts())"
   ]
  },
  {
   "cell_type": "code",
   "execution_count": 8,
   "metadata": {},
   "outputs": [
    {
     "name": "stderr",
     "output_type": "stream",
     "text": [
      "/Users/sierra/anaconda/envs/python37/lib/python3.7/site-packages/pandas/core/frame.py:3391: SettingWithCopyWarning: \n",
      "A value is trying to be set on a copy of a slice from a DataFrame.\n",
      "Try using .loc[row_indexer,col_indexer] = value instead\n",
      "\n",
      "See the caveats in the documentation: http://pandas.pydata.org/pandas-docs/stable/indexing.html#indexing-view-versus-copy\n",
      "  self[k1] = value[k2]\n"
     ]
    }
   ],
   "source": [
    "float_cols = ['ia_bw_mbps_total', 'ia_monthly_cost_total', 'avg_li_num_bids_received', 'ia_bandwidth_per_student_kbps', 'ia_monthly_cost_per_mbps']\n",
    "df_filtered_ia[float_cols] = df_filtered_ia[float_cols].astype('float')"
   ]
  },
  {
   "cell_type": "code",
   "execution_count": 9,
   "metadata": {},
   "outputs": [
    {
     "name": "stderr",
     "output_type": "stream",
     "text": [
      "/Users/sierra/anaconda/envs/python37/lib/python3.7/site-packages/ipykernel_launcher.py:1: SettingWithCopyWarning: \n",
      "A value is trying to be set on a copy of a slice from a DataFrame.\n",
      "Try using .loc[row_indexer,col_indexer] = value instead\n",
      "\n",
      "See the caveats in the documentation: http://pandas.pydata.org/pandas-docs/stable/indexing.html#indexing-view-versus-copy\n",
      "  \"\"\"Entry point for launching an IPython kernel.\n"
     ]
    }
   ],
   "source": [
    "df_filtered_ia['locale_grouped'] = np.where(np.logical_or(df_filtered_ia['locale']=='Urban',df_filtered_ia['locale']=='Suburban'),'Urban','Rural')"
   ]
  },
  {
   "cell_type": "markdown",
   "metadata": {},
   "source": [
    "## Competition Lowers Broadband Prices (Funds for Learning [article](https://www.fundsforlearning.com/blog/2019/07/competition-lowers-broadband-prices?utm_source=iContact&utm_medium=email&utm_campaign=weekly-guidenotes&utm_content=Applicant+Guidenotes+Template)) using ESH Metrics"
   ]
  },
  {
   "cell_type": "markdown",
   "metadata": {},
   "source": [
    "According to E-rate funding applications, the average<sup>1</sup> speed of broadband to school and library buildings has more than doubled since 2016, while the average price paid per megabit has dropped more than half. New options for broadband connectivity, including self-provisioned networks, and an increase in the number of available service providers are both factors driving this dramatic change."
   ]
  },
  {
   "cell_type": "code",
   "execution_count": 10,
   "metadata": {},
   "outputs": [
    {
     "name": "stdout",
     "output_type": "stream",
     "text": [
      "0.95                         ia_bw_mbps_total\n",
      "funding_year locale_grouped                  \n",
      "2016         Rural                     2000.0\n",
      "             Urban                    10000.0\n",
      "2017         Rural                     2000.0\n",
      "             Urban                    10000.0\n",
      "2018         Rural                     3000.0\n",
      "             Urban                    11000.0\n",
      "2019         Rural                     5000.0\n",
      "             Urban                    12580.0\n"
     ]
    }
   ],
   "source": [
    "upp_quantiles_bw = df_filtered_ia.groupby(['funding_year', 'locale_grouped'])[['funding_year', 'locale_grouped', 'ia_bw_mbps_total']].quantile(.95).drop('funding_year', axis=1)\n",
    "print(upp_quantiles_bw)"
   ]
  },
  {
   "cell_type": "markdown",
   "metadata": {},
   "source": [
    "#### Averages version (as in article -- using Total BW and Total Monthly Cost)"
   ]
  },
  {
   "cell_type": "code",
   "execution_count": 11,
   "metadata": {},
   "outputs": [
    {
     "name": "stdout",
     "output_type": "stream",
     "text": [
      "(47347, 13)\n",
      "(44254, 13)\n"
     ]
    }
   ],
   "source": [
    "# filter out outliers\n",
    "print(df_filtered_ia.shape)\n",
    "idx = df_filtered_ia.apply(lambda row: row['ia_bw_mbps_total'] < upp_quantiles_bw.xs(key=[row['funding_year'],row['locale_grouped']]).item(), axis = 1)\n",
    "df_no_bw_outlier = df_filtered_ia[idx]\n",
    "print(df_no_bw_outlier.shape)"
   ]
  },
  {
   "cell_type": "code",
   "execution_count": 12,
   "metadata": {},
   "outputs": [
    {
     "data": {
      "text/markdown": [
       "In 2016, rural schools reported an average broadband connection speed of 381 megabits per second (Mbps). For the same period, urban schools reported an average connection speed of 1244 Mbps. Now, in 2019, these speeds have more than doubled. Rural sites now have an average speed of 836 Mbps, more than 2.2 times faster than 2016. Urban sites now average 3313 Mbps, 2.7 times faster than 2016."
      ],
      "text/plain": [
       "<IPython.core.display.Markdown object>"
      ]
     },
     "metadata": {},
     "output_type": "display_data"
    }
   ],
   "source": [
    "avg_bws = agg_2016_2019(df_no_bw_outlier, 'ia_bw_mbps_total', np.mean)\n",
    "\n",
    "rural_ratio = round(avg_bws[(avg_bws.locale_grouped == 'Rural') & (avg_bws.funding_year == 2019)]['ia_bw_mbps_total'].item()/avg_bws[(avg_bws.locale_grouped == 'Rural') & (avg_bws.funding_year == 2016)]['ia_bw_mbps_total'].item(), 1)\n",
    "urban_ratio = round(avg_bws[(avg_bws.locale_grouped == 'Urban') & (avg_bws.funding_year == 2019)]['ia_bw_mbps_total'].item()/avg_bws[(avg_bws.locale_grouped == 'Urban') & (avg_bws.funding_year == 2016)]['ia_bw_mbps_total'].item(), 1)\n",
    "\n",
    "display(Markdown(rf\"\"\"In 2016, rural schools reported an average broadband connection speed of {int(avg_bws[(avg_bws.locale_grouped == 'Rural') & (avg_bws.funding_year == 2016)]['ia_bw_mbps_total'].item())} megabits per second (Mbps). For the same period, urban schools reported an average connection speed of {int(avg_bws[(avg_bws.locale_grouped == 'Urban') & (avg_bws.funding_year == 2016)]['ia_bw_mbps_total'].item())} Mbps. Now, in 2019, these speeds have more than doubled. Rural sites now have an average speed of {int(avg_bws[(avg_bws.locale_grouped == 'Rural') & (avg_bws.funding_year == 2019)]['ia_bw_mbps_total'].item())} Mbps, more than {rural_ratio} times faster than 2016. Urban sites now average {int(avg_bws[(avg_bws.locale_grouped == 'Urban') & (avg_bws.funding_year == 2019)]['ia_bw_mbps_total'].item())} Mbps, {urban_ratio} times faster than 2016.\"\"\"))"
   ]
  },
  {
   "cell_type": "code",
   "execution_count": 13,
   "metadata": {},
   "outputs": [],
   "source": [
    "df_bw = df_no_bw_outlier.groupby(['funding_year', 'locale_grouped'])['ia_bw_mbps_total'].mean().reset_index()"
   ]
  },
  {
   "cell_type": "code",
   "execution_count": 14,
   "metadata": {},
   "outputs": [
    {
     "data": {
      "image/png": "[encoded data removed]",
      "text/plain": [
       "<Figure size 432x288 with 1 Axes>"
      ]
     },
     "metadata": {
      "needs_background": "light"
     },
     "output_type": "display_data"
    }
   ],
   "source": [
    "%matplotlib inline\n",
    "plot_linechart(df_bw, 'ia_bw_mbps_total', 0, 'Bandwidth (Mbps)', 'Broadband Speed to E-rate Schools and Libraries \\n Average Total Bandwidth')"
   ]
  },
  {
   "cell_type": "code",
   "execution_count": 15,
   "metadata": {},
   "outputs": [
    {
     "data": {
      "text/markdown": [
       "Remarkably, this dramatic increase in bandwidth has cost applicants (and the E-rate program) very little money. The average monthly fee per megabit of download speed has dropped almost as much as the bandwidth being delivered has increased. In 2016, rural applicants paid an average of \\\\$8.31 monthly per Mbps of download speed. For urban applicants, the average fee was \\\\$4.55 per Mbps of download speed. Now, in 2019, the amount paid by rural and urban schools average \\\\$3.1 and \\\\$1.5 per Mbps, respectively."
      ],
      "text/plain": [
       "<IPython.core.display.Markdown object>"
      ]
     },
     "metadata": {},
     "output_type": "display_data"
    }
   ],
   "source": [
    "avg_costs = agg_2016_2019(df_filtered_ia[df_filtered_ia.state_code != 'AK'], 'ia_monthly_cost_total', np.mean)\n",
    "avg_costs['ia_monthly_cost_per_mbps'] = avg_costs['ia_monthly_cost_total']/avg_bws['ia_bw_mbps_total']\n",
    "display(Markdown(rf\"\"\"Remarkably, this dramatic increase in bandwidth has cost applicants (and the E-rate program) very little money. The average monthly fee per megabit of download speed has dropped almost as much as the bandwidth being delivered has increased. In 2016, rural applicants paid an average of \\\\${str(round(avg_costs[(avg_costs.locale_grouped == 'Rural') & (avg_costs.funding_year == 2016)]['ia_monthly_cost_per_mbps'].item(),2))} monthly per Mbps of download speed. For urban applicants, the average fee was \\\\${str(round(avg_costs[(avg_costs.locale_grouped == 'Urban') & (avg_costs.funding_year == 2016)]['ia_monthly_cost_per_mbps'].item(),2))} per Mbps of download speed. Now, in 2019, the amount paid by rural and urban schools average \\\\${str(round(avg_costs[(avg_costs.locale_grouped == 'Rural') & (avg_costs.funding_year == 2019)]['ia_monthly_cost_per_mbps'].item(),2))} and \\\\${str(round(avg_costs[(avg_costs.locale_grouped == 'Urban') & (avg_costs.funding_year == 2019)]['ia_monthly_cost_per_mbps'].item(),2))} per Mbps, respectively.\"\"\"))"
   ]
  },
  {
   "cell_type": "code",
   "execution_count": 16,
   "metadata": {},
   "outputs": [],
   "source": [
    "df_cost = df_filtered_ia[df_filtered_ia.state_code != 'AK'].groupby(['funding_year', 'locale_grouped'])['ia_monthly_cost_total'].mean().reset_index()\n",
    "df_cost['ia_monthly_cost_per_mbps'] = df_cost['ia_monthly_cost_total']/df_bw['ia_bw_mbps_total']"
   ]
  },
  {
   "cell_type": "code",
   "execution_count": 17,
   "metadata": {},
   "outputs": [
    {
     "data": {
      "image/png": "[encoded data removed]",
      "text/plain": [
       "<Figure size 432x288 with 1 Axes>"
      ]
     },
     "metadata": {
      "needs_background": "light"
     },
     "output_type": "display_data"
    }
   ],
   "source": [
    "%matplotlib inline\n",
    "plot_linechart(df_cost, 'ia_monthly_cost_per_mbps', 2, 'Monthly Cost per Mbps ($)', 'Price per Megabit paid by E-rate Schools and Libraries \\n Avg Monthly Fee per Mbps Reported on E-rate Forms')"
   ]
  },
  {
   "cell_type": "markdown",
   "metadata": {},
   "source": [
    "The net effect is that both rural and urban schools are receiving much faster connections for about the same money, or a little more, each month. The table below shows the average broadband speed, total monthly fee, and net monthly fee per Mbps for urban and rural schools."
   ]
  },
  {
   "cell_type": "code",
   "execution_count": 18,
   "metadata": {},
   "outputs": [
    {
     "data": {
      "text/html": [
       "<style  type=\"text/css\" >\n",
       "    #T_507a35aa_ba19_11e9_b104_784f43a0ccdd th {\n",
       "          font-size: 12px;\n",
       "          text-align: center;\n",
       "          font-weight: bold;\n",
       "          color: #6d6d6d;\n",
       "          background-color: #f7f7f9;\n",
       "    }    #T_507a35aa_ba19_11e9_b104_784f43a0ccdd td {\n",
       "          font-size: 11px;\n",
       "          text-align: center;\n",
       "    }</style><table id=\"T_507a35aa_ba19_11e9_b104_784f43a0ccdd\" ><caption>Broadband Speeds and Costs Reported on E-rate Form 471 Funding Applications</caption><thead>    <tr>        <th class=\"blank level0\" ></th>        <th class=\"col_heading level0 col0\" colspan=3>Rural Average</th>        <th class=\"col_heading level0 col3\" colspan=3>Urban Average</th>    </tr>    <tr>        <th class=\"blank level1\" ></th>        <th class=\"col_heading level1 col0\" >Broadband Speed</th>        <th class=\"col_heading level1 col1\" >Monthly Fee</th>        <th class=\"col_heading level1 col2\" >Monthly Fee per Mbps</th>        <th class=\"col_heading level1 col3\" >Broadband Speed</th>        <th class=\"col_heading level1 col4\" >Monthly Fee</th>        <th class=\"col_heading level1 col5\" >Monthly Fee per Mbps</th>    </tr>    <tr>        <th class=\"index_name level0\" >Funding Year</th>        <th class=\"blank\" ></th>        <th class=\"blank\" ></th>        <th class=\"blank\" ></th>        <th class=\"blank\" ></th>        <th class=\"blank\" ></th>        <th class=\"blank\" ></th>    </tr></thead><tbody>\n",
       "                <tr>\n",
       "                        <th id=\"T_507a35aa_ba19_11e9_b104_784f43a0ccddlevel0_row0\" class=\"row_heading level0 row0\" >2016</th>\n",
       "                        <td id=\"T_507a35aa_ba19_11e9_b104_784f43a0ccddrow0_col0\" class=\"data row0 col0\" >381.35</td>\n",
       "                        <td id=\"T_507a35aa_ba19_11e9_b104_784f43a0ccddrow0_col1\" class=\"data row0 col1\" >3167.94</td>\n",
       "                        <td id=\"T_507a35aa_ba19_11e9_b104_784f43a0ccddrow0_col2\" class=\"data row0 col2\" >8.30718</td>\n",
       "                        <td id=\"T_507a35aa_ba19_11e9_b104_784f43a0ccddrow0_col3\" class=\"data row0 col3\" >1244.92</td>\n",
       "                        <td id=\"T_507a35aa_ba19_11e9_b104_784f43a0ccddrow0_col4\" class=\"data row0 col4\" >5659.73</td>\n",
       "                        <td id=\"T_507a35aa_ba19_11e9_b104_784f43a0ccddrow0_col5\" class=\"data row0 col5\" >4.54627</td>\n",
       "            </tr>\n",
       "            <tr>\n",
       "                        <th id=\"T_507a35aa_ba19_11e9_b104_784f43a0ccddlevel0_row1\" class=\"row_heading level0 row1\" >2017</th>\n",
       "                        <td id=\"T_507a35aa_ba19_11e9_b104_784f43a0ccddrow1_col0\" class=\"data row1 col0\" >479.937</td>\n",
       "                        <td id=\"T_507a35aa_ba19_11e9_b104_784f43a0ccddrow1_col1\" class=\"data row1 col1\" >2988.25</td>\n",
       "                        <td id=\"T_507a35aa_ba19_11e9_b104_784f43a0ccddrow1_col2\" class=\"data row1 col2\" >6.22634</td>\n",
       "                        <td id=\"T_507a35aa_ba19_11e9_b104_784f43a0ccddrow1_col3\" class=\"data row1 col3\" >1461.99</td>\n",
       "                        <td id=\"T_507a35aa_ba19_11e9_b104_784f43a0ccddrow1_col4\" class=\"data row1 col4\" >6027.73</td>\n",
       "                        <td id=\"T_507a35aa_ba19_11e9_b104_784f43a0ccddrow1_col5\" class=\"data row1 col5\" >4.12296</td>\n",
       "            </tr>\n",
       "            <tr>\n",
       "                        <th id=\"T_507a35aa_ba19_11e9_b104_784f43a0ccddlevel0_row2\" class=\"row_heading level0 row2\" >2018</th>\n",
       "                        <td id=\"T_507a35aa_ba19_11e9_b104_784f43a0ccddrow2_col0\" class=\"data row2 col0\" >656.74</td>\n",
       "                        <td id=\"T_507a35aa_ba19_11e9_b104_784f43a0ccddrow2_col1\" class=\"data row2 col1\" >2749.64</td>\n",
       "                        <td id=\"T_507a35aa_ba19_11e9_b104_784f43a0ccddrow2_col2\" class=\"data row2 col2\" >4.1868</td>\n",
       "                        <td id=\"T_507a35aa_ba19_11e9_b104_784f43a0ccddrow2_col3\" class=\"data row2 col3\" >2648.65</td>\n",
       "                        <td id=\"T_507a35aa_ba19_11e9_b104_784f43a0ccddrow2_col4\" class=\"data row2 col4\" >5382.82</td>\n",
       "                        <td id=\"T_507a35aa_ba19_11e9_b104_784f43a0ccddrow2_col5\" class=\"data row2 col5\" >2.03229</td>\n",
       "            </tr>\n",
       "            <tr>\n",
       "                        <th id=\"T_507a35aa_ba19_11e9_b104_784f43a0ccddlevel0_row3\" class=\"row_heading level0 row3\" >2019</th>\n",
       "                        <td id=\"T_507a35aa_ba19_11e9_b104_784f43a0ccddrow3_col0\" class=\"data row3 col0\" >836.061</td>\n",
       "                        <td id=\"T_507a35aa_ba19_11e9_b104_784f43a0ccddrow3_col1\" class=\"data row3 col1\" >2590.33</td>\n",
       "                        <td id=\"T_507a35aa_ba19_11e9_b104_784f43a0ccddrow3_col2\" class=\"data row3 col2\" >3.09826</td>\n",
       "                        <td id=\"T_507a35aa_ba19_11e9_b104_784f43a0ccddrow3_col3\" class=\"data row3 col3\" >3313.54</td>\n",
       "                        <td id=\"T_507a35aa_ba19_11e9_b104_784f43a0ccddrow3_col4\" class=\"data row3 col4\" >4968.87</td>\n",
       "                        <td id=\"T_507a35aa_ba19_11e9_b104_784f43a0ccddrow3_col5\" class=\"data row3 col5\" >1.49956</td>\n",
       "            </tr>\n",
       "    </tbody></table>"
      ],
      "text/plain": [
       "<pandas.io.formats.style.Styler at 0x1265fc2b0>"
      ]
     },
     "execution_count": 18,
     "metadata": {},
     "output_type": "execute_result"
    }
   ],
   "source": [
    "df_all = df_cost.merge(df_bw, on=['funding_year','locale_grouped'])\n",
    "display_table(df_all)"
   ]
  },
  {
   "cell_type": "markdown",
   "metadata": {},
   "source": [
    "#### Median 'SotS' version (using BW per Student, Monthly Cost per Mbps)"
   ]
  },
  {
   "cell_type": "code",
   "execution_count": 19,
   "metadata": {},
   "outputs": [
    {
     "data": {
      "text/markdown": [
       "In 2016, rural schools reported a median broadband connection speed of 293 kilobits per second per student (kbps). For the same period, urban schools reported a median connection speed of 215 kbps. Now, in 2019, these speeds have more than doubled. Rural sites now have a median speed of 789 kbps, more than 2.7 times faster than 2016. Urban sites now have a median of 471 kbps, 2.2 times faster than 2016."
      ],
      "text/plain": [
       "<IPython.core.display.Markdown object>"
      ]
     },
     "metadata": {},
     "output_type": "display_data"
    }
   ],
   "source": [
    "med_bws = agg_2016_2019(df_filtered_ia, 'ia_bandwidth_per_student_kbps', np.median)\n",
    "\n",
    "rural_ratio = round(med_bws[(med_bws.locale_grouped == 'Rural') & (med_bws.funding_year == 2019)]['ia_bandwidth_per_student_kbps'].item()/med_bws[(med_bws.locale_grouped == 'Rural') & (med_bws.funding_year == 2016)]['ia_bandwidth_per_student_kbps'].item(), 1)\n",
    "urban_ratio = round(med_bws[(med_bws.locale_grouped == 'Urban') & (med_bws.funding_year == 2019)]['ia_bandwidth_per_student_kbps'].item()/med_bws[(med_bws.locale_grouped == 'Urban') & (med_bws.funding_year == 2016)]['ia_bandwidth_per_student_kbps'].item(), 1)\n",
    "\n",
    "display(Markdown(rf\"\"\"In 2016, rural schools reported a median broadband connection speed of {int(med_bws[(med_bws.locale_grouped == 'Rural') & (med_bws.funding_year == 2016)]['ia_bandwidth_per_student_kbps'].item())} kilobits per second per student (kbps). For the same period, urban schools reported a median connection speed of {int(med_bws[(med_bws.locale_grouped == 'Urban') & (med_bws.funding_year == 2016)]['ia_bandwidth_per_student_kbps'].item())} kbps. Now, in 2019, these speeds have more than doubled. Rural sites now have a median speed of {int(med_bws[(med_bws.locale_grouped == 'Rural') & (avg_bws.funding_year == 2019)]['ia_bandwidth_per_student_kbps'].item())} kbps, more than {rural_ratio} times faster than 2016. Urban sites now have a median of {int(med_bws[(med_bws.locale_grouped == 'Urban') & (med_bws.funding_year == 2019)]['ia_bandwidth_per_student_kbps'].item())} kbps, {urban_ratio} times faster than 2016.\"\"\"))"
   ]
  },
  {
   "cell_type": "code",
   "execution_count": 20,
   "metadata": {},
   "outputs": [],
   "source": [
    "df_bw = df_filtered_ia.groupby(['funding_year', 'locale_grouped'])['ia_bandwidth_per_student_kbps'].median().reset_index()"
   ]
  },
  {
   "cell_type": "code",
   "execution_count": 21,
   "metadata": {},
   "outputs": [
    {
     "data": {
      "image/png": "[encoded data removed]",
      "text/plain": [
       "<Figure size 432x288 with 1 Axes>"
      ]
     },
     "metadata": {
      "needs_background": "light"
     },
     "output_type": "display_data"
    }
   ],
   "source": [
    "%matplotlib inline\n",
    "plot_linechart(df_bw, 'ia_bandwidth_per_student_kbps', 0, 'Bandwidth per Student (Kbps)', 'Broadband Speed to E-rate Schools and Libraries \\n Median Bandwidth per Student')"
   ]
  },
  {
   "cell_type": "code",
   "execution_count": 22,
   "metadata": {},
   "outputs": [
    {
     "data": {
      "text/markdown": [
       "Remarkably, this dramatic increase in bandwidth has cost applicants (and the E-rate program) very little money. The median monthly fee per megabit of download speed has dropped almost as much as the bandwidth being delivered has increased. In 2016, rural applicants paid a median of \\\\$9.44 monthly per Mbps of download speed. For urban applicants, the median fee was \\\\$4.05 per Mbps of download speed. Now, in 2019, the median amount paid by rural and urban schools is \\\\$2.75 and \\\\$1.5 per Mbps, respectively."
      ],
      "text/plain": [
       "<IPython.core.display.Markdown object>"
      ]
     },
     "metadata": {},
     "output_type": "display_data"
    }
   ],
   "source": [
    "med_costs = agg_2016_2019(df_filtered_ia[df_filtered_ia.state_code != 'AK'], 'ia_monthly_cost_per_mbps', np.median)\n",
    "display(Markdown(rf\"\"\"Remarkably, this dramatic increase in bandwidth has cost applicants (and the E-rate program) very little money. The median monthly fee per megabit of download speed has dropped almost as much as the bandwidth being delivered has increased. In 2016, rural applicants paid a median of \\\\${str(round(med_costs[(med_costs.locale_grouped == 'Rural') & (med_costs.funding_year == 2016)]['ia_monthly_cost_per_mbps'].item(),2))} monthly per Mbps of download speed. For urban applicants, the median fee was \\\\${str(round(med_costs[(med_costs.locale_grouped == 'Urban') & (med_costs.funding_year == 2016)]['ia_monthly_cost_per_mbps'].item(),2))} per Mbps of download speed. Now, in 2019, the median amount paid by rural and urban schools is \\\\${str(round(med_costs[(med_costs.locale_grouped == 'Rural') & (med_costs.funding_year == 2019)]['ia_monthly_cost_per_mbps'].item(),2))} and \\\\${str(round(med_costs[(med_costs.locale_grouped == 'Urban') & (med_costs.funding_year == 2019)]['ia_monthly_cost_per_mbps'].item(),2))} per Mbps, respectively.\"\"\"))"
   ]
  },
  {
   "cell_type": "code",
   "execution_count": 23,
   "metadata": {},
   "outputs": [],
   "source": [
    "df_costmbps_med = df_filtered_ia[df_filtered_ia.state_code != 'AK'].groupby(['funding_year', 'locale_grouped'])['ia_monthly_cost_per_mbps'].median().reset_index()\n",
    "df_cost_med = df_filtered_ia[df_filtered_ia.state_code != 'AK'].groupby(['funding_year', 'locale_grouped'])['ia_monthly_cost_total'].median().reset_index()"
   ]
  },
  {
   "cell_type": "code",
   "execution_count": 24,
   "metadata": {},
   "outputs": [],
   "source": [
    "df_cost = df_costmbps_med.merge(df_cost_med[['funding_year', 'locale_grouped', 'ia_monthly_cost_total']], on=['funding_year', 'locale_grouped'])"
   ]
  },
  {
   "cell_type": "code",
   "execution_count": 25,
   "metadata": {},
   "outputs": [],
   "source": [
    "df_cost_plot = df_cost.groupby(['funding_year', 'locale_grouped'])['ia_monthly_cost_per_mbps'].median().reset_index()"
   ]
  },
  {
   "cell_type": "code",
   "execution_count": 26,
   "metadata": {},
   "outputs": [
    {
     "data": {
      "image/png": "[encoded data removed]",
      "text/plain": [
       "<Figure size 432x288 with 1 Axes>"
      ]
     },
     "metadata": {
      "needs_background": "light"
     },
     "output_type": "display_data"
    }
   ],
   "source": [
    "%matplotlib inline\n",
    "plot_linechart(df_cost_plot, 'ia_monthly_cost_per_mbps', 2, 'Monthly Cost per Mbps ($)', 'Price per Megabit paid by E-rate Schools and Libraries \\n Avg Monthly Fee per Mbps Reported on E-rate Forms')"
   ]
  },
  {
   "cell_type": "markdown",
   "metadata": {},
   "source": [
    "The net effect is that both rural and urban schools are receiving much faster connections for about the same money, or a little more, each month. The table below shows the median broadband speed, total monthly fee, and net monthly fee per Mbps for urban and rural schools."
   ]
  },
  {
   "cell_type": "code",
   "execution_count": 27,
   "metadata": {},
   "outputs": [
    {
     "data": {
      "text/html": [
       "<style  type=\"text/css\" >\n",
       "    #T_514286e0_ba19_11e9_b104_784f43a0ccdd th {\n",
       "          font-size: 12px;\n",
       "          text-align: center;\n",
       "          font-weight: bold;\n",
       "          color: #6d6d6d;\n",
       "          background-color: #f7f7f9;\n",
       "    }    #T_514286e0_ba19_11e9_b104_784f43a0ccdd td {\n",
       "          font-size: 11px;\n",
       "          text-align: center;\n",
       "    }</style><table id=\"T_514286e0_ba19_11e9_b104_784f43a0ccdd\" ><caption>Broadband Speeds and Costs Reported on E-rate Form 471 Funding Applications</caption><thead>    <tr>        <th class=\"blank level0\" ></th>        <th class=\"col_heading level0 col0\" colspan=3>Rural Average</th>        <th class=\"col_heading level0 col3\" colspan=3>Urban Average</th>    </tr>    <tr>        <th class=\"blank level1\" ></th>        <th class=\"col_heading level1 col0\" >Broadband Speed</th>        <th class=\"col_heading level1 col1\" >Monthly Fee</th>        <th class=\"col_heading level1 col2\" >Monthly Fee per Mbps</th>        <th class=\"col_heading level1 col3\" >Broadband Speed</th>        <th class=\"col_heading level1 col4\" >Monthly Fee</th>        <th class=\"col_heading level1 col5\" >Monthly Fee per Mbps</th>    </tr>    <tr>        <th class=\"index_name level0\" >Funding Year</th>        <th class=\"blank\" ></th>        <th class=\"blank\" ></th>        <th class=\"blank\" ></th>        <th class=\"blank\" ></th>        <th class=\"blank\" ></th>        <th class=\"blank\" ></th>    </tr></thead><tbody>\n",
       "                <tr>\n",
       "                        <th id=\"T_514286e0_ba19_11e9_b104_784f43a0ccddlevel0_row0\" class=\"row_heading level0 row0\" >2016</th>\n",
       "                        <td id=\"T_514286e0_ba19_11e9_b104_784f43a0ccddrow0_col0\" class=\"data row0 col0\" >293.255</td>\n",
       "                        <td id=\"T_514286e0_ba19_11e9_b104_784f43a0ccddrow0_col1\" class=\"data row0 col1\" >2200</td>\n",
       "                        <td id=\"T_514286e0_ba19_11e9_b104_784f43a0ccddrow0_col2\" class=\"data row0 col2\" >9.43981</td>\n",
       "                        <td id=\"T_514286e0_ba19_11e9_b104_784f43a0ccddrow0_col3\" class=\"data row0 col3\" >215.599</td>\n",
       "                        <td id=\"T_514286e0_ba19_11e9_b104_784f43a0ccddrow0_col4\" class=\"data row0 col4\" >3403.5</td>\n",
       "                        <td id=\"T_514286e0_ba19_11e9_b104_784f43a0ccddrow0_col5\" class=\"data row0 col5\" >4.04855</td>\n",
       "            </tr>\n",
       "            <tr>\n",
       "                        <th id=\"T_514286e0_ba19_11e9_b104_784f43a0ccddlevel0_row1\" class=\"row_heading level0 row1\" >2017</th>\n",
       "                        <td id=\"T_514286e0_ba19_11e9_b104_784f43a0ccddrow1_col0\" class=\"data row1 col0\" >434.594</td>\n",
       "                        <td id=\"T_514286e0_ba19_11e9_b104_784f43a0ccddrow1_col1\" class=\"data row1 col1\" >2038.65</td>\n",
       "                        <td id=\"T_514286e0_ba19_11e9_b104_784f43a0ccddrow1_col2\" class=\"data row1 col2\" >5.98832</td>\n",
       "                        <td id=\"T_514286e0_ba19_11e9_b104_784f43a0ccddrow1_col3\" class=\"data row1 col3\" >283.487</td>\n",
       "                        <td id=\"T_514286e0_ba19_11e9_b104_784f43a0ccddrow1_col4\" class=\"data row1 col4\" >3400</td>\n",
       "                        <td id=\"T_514286e0_ba19_11e9_b104_784f43a0ccddrow1_col5\" class=\"data row1 col5\" >2.96663</td>\n",
       "            </tr>\n",
       "            <tr>\n",
       "                        <th id=\"T_514286e0_ba19_11e9_b104_784f43a0ccddlevel0_row2\" class=\"row_heading level0 row2\" >2018</th>\n",
       "                        <td id=\"T_514286e0_ba19_11e9_b104_784f43a0ccddrow2_col0\" class=\"data row2 col0\" >592.417</td>\n",
       "                        <td id=\"T_514286e0_ba19_11e9_b104_784f43a0ccddrow2_col1\" class=\"data row2 col1\" >1958</td>\n",
       "                        <td id=\"T_514286e0_ba19_11e9_b104_784f43a0ccddrow2_col2\" class=\"data row2 col2\" >3.95976</td>\n",
       "                        <td id=\"T_514286e0_ba19_11e9_b104_784f43a0ccddrow2_col3\" class=\"data row2 col3\" >368.555</td>\n",
       "                        <td id=\"T_514286e0_ba19_11e9_b104_784f43a0ccddrow2_col4\" class=\"data row2 col4\" >3000</td>\n",
       "                        <td id=\"T_514286e0_ba19_11e9_b104_784f43a0ccddrow2_col5\" class=\"data row2 col5\" >1.93619</td>\n",
       "            </tr>\n",
       "            <tr>\n",
       "                        <th id=\"T_514286e0_ba19_11e9_b104_784f43a0ccddlevel0_row3\" class=\"row_heading level0 row3\" >2019</th>\n",
       "                        <td id=\"T_514286e0_ba19_11e9_b104_784f43a0ccddrow3_col0\" class=\"data row3 col0\" >789.734</td>\n",
       "                        <td id=\"T_514286e0_ba19_11e9_b104_784f43a0ccddrow3_col1\" class=\"data row3 col1\" >1816.2</td>\n",
       "                        <td id=\"T_514286e0_ba19_11e9_b104_784f43a0ccddrow3_col2\" class=\"data row3 col2\" >2.75</td>\n",
       "                        <td id=\"T_514286e0_ba19_11e9_b104_784f43a0ccddrow3_col3\" class=\"data row3 col3\" >471.915</td>\n",
       "                        <td id=\"T_514286e0_ba19_11e9_b104_784f43a0ccddrow3_col4\" class=\"data row3 col4\" >2800</td>\n",
       "                        <td id=\"T_514286e0_ba19_11e9_b104_784f43a0ccddrow3_col5\" class=\"data row3 col5\" >1.5</td>\n",
       "            </tr>\n",
       "    </tbody></table>"
      ],
      "text/plain": [
       "<pandas.io.formats.style.Styler at 0x1288366d8>"
      ]
     },
     "execution_count": 27,
     "metadata": {},
     "output_type": "execute_result"
    }
   ],
   "source": [
    "df_all = df_cost.merge(df_bw, on=['funding_year','locale_grouped']).rename(columns={'ia_bandwidth_per_student_kbps':'ia_bw_mbps_total'})\n",
    "display_table(df_all)"
   ]
  },
  {
   "cell_type": "markdown",
   "metadata": {},
   "source": [
    "### Increased Competition Drives Improvements "
   ]
  },
  {
   "cell_type": "markdown",
   "metadata": {},
   "source": [
    "Competition appears to be a significant driver behind the faster connection speeds and more cost-effective pricing."
   ]
  },
  {
   "cell_type": "code",
   "execution_count": 28,
   "metadata": {},
   "outputs": [
    {
     "name": "stdout",
     "output_type": "stream",
     "text": [
      "0.995         avg_li_num_bids_received\n",
      "funding_year                          \n",
      "2016                         16.351667\n",
      "2017                         20.980392\n",
      "2018                         21.357143\n",
      "2019                         22.148148\n"
     ]
    }
   ],
   "source": [
    "upp_quantiles_bids = df_filtered_ia.groupby(['funding_year'])[['funding_year','avg_li_num_bids_received']].quantile(.995).drop('funding_year', axis=1)\n",
    "print(upp_quantiles_bids)"
   ]
  },
  {
   "cell_type": "code",
   "execution_count": 29,
   "metadata": {},
   "outputs": [
    {
     "name": "stdout",
     "output_type": "stream",
     "text": [
      "(47347, 13)\n",
      "(46963, 13)\n"
     ]
    }
   ],
   "source": [
    "print(df_filtered_ia.shape)\n",
    "idx = df_filtered_ia.apply(lambda row: row['avg_li_num_bids_received'] < upp_quantiles_bids.xs(key=row['funding_year']).item(), axis = 1)\n",
    "df_no_bids_outlier = df_filtered_ia[idx]\n",
    "print(df_no_bids_outlier.shape)"
   ]
  },
  {
   "cell_type": "code",
   "execution_count": 30,
   "metadata": {},
   "outputs": [],
   "source": [
    "avg_bids = df_no_bids_outlier.groupby('funding_year')['avg_li_num_bids_received'].mean().reset_index()"
   ]
  },
  {
   "cell_type": "code",
   "execution_count": 31,
   "metadata": {},
   "outputs": [],
   "source": [
    "avg_bids_2019 = round(avg_bids[avg_bids.funding_year == 2019]['avg_li_num_bids_received'].item(),2)\n",
    "avg_bids_2016 = round(avg_bids[avg_bids.funding_year == 2016]['avg_li_num_bids_received'].item(),2)\n",
    "\n",
    "avg_bids_2016_2019_increase = int(((avg_bids_2019 - avg_bids_2016)/avg_bids_2016)*100)"
   ]
  },
  {
   "cell_type": "code",
   "execution_count": 32,
   "metadata": {},
   "outputs": [
    {
     "data": {
      "text/markdown": [
       "This has helped foster an environment that encourages more vendors to submit bids to provide services to schools and libraries. Since 2016, the average number of bids received for Category One data services has increased 23%. In 2016, applicants received an average of 2.92 vendors bids for their data services. In 2019, applicants received an average of 3.61 vendor bids for their data services. Importantly, both urban and rural applicants have benefited from an increase in competition for their business."
      ],
      "text/plain": [
       "<IPython.core.display.Markdown object>"
      ]
     },
     "metadata": {},
     "output_type": "display_data"
    }
   ],
   "source": [
    "display(Markdown(rf\"\"\"This has helped foster an environment that encourages more vendors to submit bids to provide services to schools and libraries. Since 2016, the average number of bids received for Category One data services has increased {avg_bids_2016_2019_increase}%. In 2016, applicants received an average of {avg_bids_2016} vendors bids for their data services. In 2019, applicants received an average of {avg_bids_2019} vendor bids for their data services. Importantly, both urban and rural applicants have benefited from an increase in competition for their business.\"\"\"))"
   ]
  },
  {
   "cell_type": "code",
   "execution_count": 33,
   "metadata": {},
   "outputs": [],
   "source": [
    "df_bids = df_no_bids_outlier.groupby(['funding_year', 'locale_grouped'])['avg_li_num_bids_received'].mean().reset_index()"
   ]
  },
  {
   "cell_type": "code",
   "execution_count": 34,
   "metadata": {},
   "outputs": [
    {
     "data": {
      "image/png": "[encoded data removed]",
      "text/plain": [
       "<Figure size 432x288 with 1 Axes>"
      ]
     },
     "metadata": {
      "needs_background": "light"
     },
     "output_type": "display_data"
    }
   ],
   "source": [
    "%matplotlib inline\n",
    "plot_linechart(df_bids, 'avg_li_num_bids_received', 2, '', 'Number of Bids Received for E-rate Data Service \\n Average Count of C1 Bids by Location Type')"
   ]
  },
  {
   "cell_type": "code",
   "execution_count": 35,
   "metadata": {},
   "outputs": [],
   "source": [
    "df_bids_table = pd.DataFrame({'Funding Year': [2016,2017,2018,2019],\n",
    "                             'Rural': df_bids[df_bids.locale_grouped == 'Rural'][['funding_year','avg_li_num_bids_received']].iloc[:,1].reset_index(drop=True),\n",
    "                             'Urban': df_bids[df_bids.locale_grouped == 'Urban'][['funding_year','avg_li_num_bids_received']].iloc[:,1].reset_index(drop=True),\n",
    "                             'Overall': avg_bids['avg_li_num_bids_received']}, index=range(4)).round(2)"
   ]
  },
  {
   "cell_type": "code",
   "execution_count": 36,
   "metadata": {},
   "outputs": [
    {
     "data": {
      "text/html": [
       "<style  type=\"text/css\" >\n",
       "    #T_55d973ee_ba19_11e9_b104_784f43a0ccdd th {\n",
       "          font-size: 12px;\n",
       "          text-align: center;\n",
       "          font-weight: bold;\n",
       "          color: #6d6d6d;\n",
       "          background-color: #f7f7f9;\n",
       "    }    #T_55d973ee_ba19_11e9_b104_784f43a0ccdd td {\n",
       "          font-size: 11px;\n",
       "          text-align: center;\n",
       "    }</style><table id=\"T_55d973ee_ba19_11e9_b104_784f43a0ccdd\" ><caption>Average Count of C1 Bids by Location Type</caption><thead>    <tr>        <th class=\"col_heading level0 col0\" >Funding Year</th>        <th class=\"col_heading level0 col1\" >Rural</th>        <th class=\"col_heading level0 col2\" >Urban</th>        <th class=\"col_heading level0 col3\" >Overall</th>    </tr></thead><tbody>\n",
       "                <tr>\n",
       "                                <td id=\"T_55d973ee_ba19_11e9_b104_784f43a0ccddrow0_col0\" class=\"data row0 col0\" >2016</td>\n",
       "                        <td id=\"T_55d973ee_ba19_11e9_b104_784f43a0ccddrow0_col1\" class=\"data row0 col1\" >2.84</td>\n",
       "                        <td id=\"T_55d973ee_ba19_11e9_b104_784f43a0ccddrow0_col2\" class=\"data row0 col2\" >3.12</td>\n",
       "                        <td id=\"T_55d973ee_ba19_11e9_b104_784f43a0ccddrow0_col3\" class=\"data row0 col3\" >2.92</td>\n",
       "            </tr>\n",
       "            <tr>\n",
       "                                <td id=\"T_55d973ee_ba19_11e9_b104_784f43a0ccddrow1_col0\" class=\"data row1 col0\" >2017</td>\n",
       "                        <td id=\"T_55d973ee_ba19_11e9_b104_784f43a0ccddrow1_col1\" class=\"data row1 col1\" >3.32</td>\n",
       "                        <td id=\"T_55d973ee_ba19_11e9_b104_784f43a0ccddrow1_col2\" class=\"data row1 col2\" >3.49</td>\n",
       "                        <td id=\"T_55d973ee_ba19_11e9_b104_784f43a0ccddrow1_col3\" class=\"data row1 col3\" >3.37</td>\n",
       "            </tr>\n",
       "            <tr>\n",
       "                                <td id=\"T_55d973ee_ba19_11e9_b104_784f43a0ccddrow2_col0\" class=\"data row2 col0\" >2018</td>\n",
       "                        <td id=\"T_55d973ee_ba19_11e9_b104_784f43a0ccddrow2_col1\" class=\"data row2 col1\" >3.4</td>\n",
       "                        <td id=\"T_55d973ee_ba19_11e9_b104_784f43a0ccddrow2_col2\" class=\"data row2 col2\" >3.79</td>\n",
       "                        <td id=\"T_55d973ee_ba19_11e9_b104_784f43a0ccddrow2_col3\" class=\"data row2 col3\" >3.51</td>\n",
       "            </tr>\n",
       "            <tr>\n",
       "                                <td id=\"T_55d973ee_ba19_11e9_b104_784f43a0ccddrow3_col0\" class=\"data row3 col0\" >2019</td>\n",
       "                        <td id=\"T_55d973ee_ba19_11e9_b104_784f43a0ccddrow3_col1\" class=\"data row3 col1\" >3.52</td>\n",
       "                        <td id=\"T_55d973ee_ba19_11e9_b104_784f43a0ccddrow3_col2\" class=\"data row3 col2\" >3.82</td>\n",
       "                        <td id=\"T_55d973ee_ba19_11e9_b104_784f43a0ccddrow3_col3\" class=\"data row3 col3\" >3.61</td>\n",
       "            </tr>\n",
       "    </tbody></table>"
      ],
      "text/plain": [
       "<pandas.io.formats.style.Styler at 0x12c0f9438>"
      ]
     },
     "execution_count": 36,
     "metadata": {},
     "output_type": "execute_result"
    }
   ],
   "source": [
    "th_props = [\n",
    "  ('font-size', '12px'),\n",
    "  ('text-align', 'center'),\n",
    "  ('font-weight', 'bold'),\n",
    "  ('color', '#6d6d6d'),\n",
    "  ('background-color', '#f7f7f9')\n",
    "  ]\n",
    "\n",
    "# Set CSS properties for td elements in dataframe\n",
    "td_props = [\n",
    "  ('font-size', '11px'),\n",
    "  ('text-align', 'center')\n",
    "  ]\n",
    "\n",
    "# Set table styles\n",
    "styles = [\n",
    "  dict(selector=\"th\", props=th_props),\n",
    "  dict(selector=\"td\", props=td_props)\n",
    "  ]\n",
    "\n",
    "df_bids_table.style.set_table_styles(styles).set_caption('Average Count of C1 Bids by Location Type').hide_index()"
   ]
  },
  {
   "cell_type": "markdown",
   "metadata": {},
   "source": [
    "### About the Calculations\n",
    "* The underlying data for all metrics is at the **district** level. Used _clean for IA_ districts in each year (independently)\n",
    "* The data labels on the graphs may be slightly less than the actual numbers reported in the text and tables due to rounding capabilities (truncation is applied)\n",
    "* <sup>1</sup>'Averages version': removed top 5% district outliers for Total BW for each year and locale\n",
    "* AK districts were removed for all cost metrics\n",
    "* Bids are defined at the E-rate funding request level, so took the _average_ count of C1 bids for each district among all funding request(s) they receive services from. Removed the top 0.05% district outliers for this metric for each year."
   ]
  },
  {
   "cell_type": "code",
   "execution_count": null,
   "metadata": {},
   "outputs": [],
   "source": []
  }
 ],
 "metadata": {
  "kernelspec": {
   "display_name": "Python 3",
   "language": "python",
   "name": "python3"
  },
  "language_info": {
   "codemirror_mode": {
    "name": "ipython",
    "version": 3
   },
   "file_extension": ".py",
   "mimetype": "text/x-python",
   "name": "python",
   "nbconvert_exporter": "python",
   "pygments_lexer": "ipython3",
   "version": "3.7.2"
  }
 },
 "nbformat": 4,
 "nbformat_minor": 2
}
